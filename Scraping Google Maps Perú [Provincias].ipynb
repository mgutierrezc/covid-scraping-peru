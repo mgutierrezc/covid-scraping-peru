{
 "cells": [
  {
   "cell_type": "markdown",
   "metadata": {},
   "source": [
    "# Obteniendo la información para el Scrapping"
   ]
  },
  {
   "cell_type": "markdown",
   "metadata": {},
   "source": [
    "Importamos las librerias para el scrapping"
   ]
  },
  {
   "cell_type": "code",
   "execution_count": 28,
   "metadata": {},
   "outputs": [],
   "source": [
    "import pandas as pd\n",
    "import string\n",
    "import googlemaps\n",
    "import numpy as np\n",
    "import os\n",
    "import re"
   ]
  },
  {
   "cell_type": "markdown",
   "metadata": {},
   "source": [
    "## Importando las provincias/distritos a analizar"
   ]
  },
  {
   "cell_type": "markdown",
   "metadata": {},
   "source": [
    "Primero, leeremos un archivo que contiene los elementos de los ubigeos del INEI. Se puede descargar entrando [aquí](http://webinei.inei.gob.pe:8080/sisconcode/proyecto/index.htm?proyectoTitulo=UBIGEO&proyectoId=3) y dando click a la opción **Excel** en la pestaña *Busqueda por Ubicación Geográfica*"
   ]
  },
  {
   "cell_type": "code",
   "execution_count": 14,
   "metadata": {},
   "outputs": [
    {
     "data": {
      "text/html": [
       "<div>\n",
       "<style scoped>\n",
       "    .dataframe tbody tr th:only-of-type {\n",
       "        vertical-align: middle;\n",
       "    }\n",
       "\n",
       "    .dataframe tbody tr th {\n",
       "        vertical-align: top;\n",
       "    }\n",
       "\n",
       "    .dataframe thead th {\n",
       "        text-align: right;\n",
       "    }\n",
       "</style>\n",
       "<table border=\"1\" class=\"dataframe\">\n",
       "  <thead>\n",
       "    <tr style=\"text-align: right;\">\n",
       "      <th></th>\n",
       "      <th>Unnamed: 0</th>\n",
       "      <th>DEPARTAMENTO</th>\n",
       "      <th>Unnamed: 2</th>\n",
       "      <th>Unnamed: 3</th>\n",
       "      <th>PROVINCIA</th>\n",
       "      <th>DISTRITO</th>\n",
       "    </tr>\n",
       "  </thead>\n",
       "  <tbody>\n",
       "    <tr>\n",
       "      <td>0</td>\n",
       "      <td>NaN</td>\n",
       "      <td>01 Amazonas</td>\n",
       "      <td>NaN</td>\n",
       "      <td>NaN</td>\n",
       "      <td></td>\n",
       "      <td></td>\n",
       "    </tr>\n",
       "    <tr>\n",
       "      <td>1</td>\n",
       "      <td>NaN</td>\n",
       "      <td>01 Amazonas</td>\n",
       "      <td>NaN</td>\n",
       "      <td>NaN</td>\n",
       "      <td>01 Chachapoyas</td>\n",
       "      <td></td>\n",
       "    </tr>\n",
       "    <tr>\n",
       "      <td>2</td>\n",
       "      <td>NaN</td>\n",
       "      <td>01 Amazonas</td>\n",
       "      <td>NaN</td>\n",
       "      <td>NaN</td>\n",
       "      <td>01 Chachapoyas</td>\n",
       "      <td>01 Chachapoyas</td>\n",
       "    </tr>\n",
       "    <tr>\n",
       "      <td>3</td>\n",
       "      <td>NaN</td>\n",
       "      <td>01 Amazonas</td>\n",
       "      <td>NaN</td>\n",
       "      <td>NaN</td>\n",
       "      <td>01 Chachapoyas</td>\n",
       "      <td>02 Asunción</td>\n",
       "    </tr>\n",
       "    <tr>\n",
       "      <td>4</td>\n",
       "      <td>NaN</td>\n",
       "      <td>01 Amazonas</td>\n",
       "      <td>NaN</td>\n",
       "      <td>NaN</td>\n",
       "      <td>01 Chachapoyas</td>\n",
       "      <td>03 Balsas</td>\n",
       "    </tr>\n",
       "  </tbody>\n",
       "</table>\n",
       "</div>"
      ],
      "text/plain": [
       "   Unnamed: 0 DEPARTAMENTO  Unnamed: 2  Unnamed: 3       PROVINCIA  \\\n",
       "0         NaN  01 Amazonas         NaN         NaN                   \n",
       "1         NaN  01 Amazonas         NaN         NaN  01 Chachapoyas   \n",
       "2         NaN  01 Amazonas         NaN         NaN  01 Chachapoyas   \n",
       "3         NaN  01 Amazonas         NaN         NaN  01 Chachapoyas   \n",
       "4         NaN  01 Amazonas         NaN         NaN  01 Chachapoyas   \n",
       "\n",
       "         DISTRITO  \n",
       "0                  \n",
       "1                  \n",
       "2  01 Chachapoyas  \n",
       "3     02 Asunción  \n",
       "4       03 Balsas  "
      ]
     },
     "execution_count": 14,
     "metadata": {},
     "output_type": "execute_result"
    }
   ],
   "source": [
    "ubigeos = pd.read_excel('ubigeo_inei.xls',skiprows=1)\n",
    "ubigeos.head()"
   ]
  },
  {
   "cell_type": "markdown",
   "metadata": {},
   "source": [
    "Necesitamos las provincias y distritos de esta base, así que limpiaremos los valores de estas variables"
   ]
  },
  {
   "cell_type": "code",
   "execution_count": 15,
   "metadata": {},
   "outputs": [
    {
     "data": {
      "text/html": [
       "<div>\n",
       "<style scoped>\n",
       "    .dataframe tbody tr th:only-of-type {\n",
       "        vertical-align: middle;\n",
       "    }\n",
       "\n",
       "    .dataframe tbody tr th {\n",
       "        vertical-align: top;\n",
       "    }\n",
       "\n",
       "    .dataframe thead th {\n",
       "        text-align: right;\n",
       "    }\n",
       "</style>\n",
       "<table border=\"1\" class=\"dataframe\">\n",
       "  <thead>\n",
       "    <tr style=\"text-align: right;\">\n",
       "      <th></th>\n",
       "      <th>Unnamed: 0</th>\n",
       "      <th>DEPARTAMENTO</th>\n",
       "      <th>Unnamed: 2</th>\n",
       "      <th>Unnamed: 3</th>\n",
       "      <th>PROVINCIA</th>\n",
       "      <th>DISTRITO</th>\n",
       "    </tr>\n",
       "  </thead>\n",
       "  <tbody>\n",
       "    <tr>\n",
       "      <td>0</td>\n",
       "      <td>NaN</td>\n",
       "      <td>01 Amazonas</td>\n",
       "      <td>NaN</td>\n",
       "      <td>NaN</td>\n",
       "      <td></td>\n",
       "      <td></td>\n",
       "    </tr>\n",
       "    <tr>\n",
       "      <td>1</td>\n",
       "      <td>NaN</td>\n",
       "      <td>01 Amazonas</td>\n",
       "      <td>NaN</td>\n",
       "      <td>NaN</td>\n",
       "      <td>Chachapoyas</td>\n",
       "      <td></td>\n",
       "    </tr>\n",
       "    <tr>\n",
       "      <td>2</td>\n",
       "      <td>NaN</td>\n",
       "      <td>01 Amazonas</td>\n",
       "      <td>NaN</td>\n",
       "      <td>NaN</td>\n",
       "      <td>Chachapoyas</td>\n",
       "      <td>Chachapoyas</td>\n",
       "    </tr>\n",
       "    <tr>\n",
       "      <td>3</td>\n",
       "      <td>NaN</td>\n",
       "      <td>01 Amazonas</td>\n",
       "      <td>NaN</td>\n",
       "      <td>NaN</td>\n",
       "      <td>Chachapoyas</td>\n",
       "      <td>Asunción</td>\n",
       "    </tr>\n",
       "    <tr>\n",
       "      <td>4</td>\n",
       "      <td>NaN</td>\n",
       "      <td>01 Amazonas</td>\n",
       "      <td>NaN</td>\n",
       "      <td>NaN</td>\n",
       "      <td>Chachapoyas</td>\n",
       "      <td>Balsas</td>\n",
       "    </tr>\n",
       "  </tbody>\n",
       "</table>\n",
       "</div>"
      ],
      "text/plain": [
       "   Unnamed: 0 DEPARTAMENTO  Unnamed: 2  Unnamed: 3    PROVINCIA     DISTRITO\n",
       "0         NaN  01 Amazonas         NaN         NaN                          \n",
       "1         NaN  01 Amazonas         NaN         NaN  Chachapoyas             \n",
       "2         NaN  01 Amazonas         NaN         NaN  Chachapoyas  Chachapoyas\n",
       "3         NaN  01 Amazonas         NaN         NaN  Chachapoyas     Asunción\n",
       "4         NaN  01 Amazonas         NaN         NaN  Chachapoyas       Balsas"
      ]
     },
     "execution_count": 15,
     "metadata": {},
     "output_type": "execute_result"
    }
   ],
   "source": [
    "ubigeos[\"PROVINCIA\"] = ubigeos[\"PROVINCIA\"].str.replace('^\\d* ', \"\", flags=re.I, regex=True)\n",
    "ubigeos[\"DISTRITO\"] = ubigeos[\"DISTRITO\"].str.replace('^\\d* ', \"\", flags=re.I, regex=True)\n",
    "ubigeos.head()"
   ]
  },
  {
   "cell_type": "markdown",
   "metadata": {},
   "source": [
    "Necesitaremos estas dos columnas como listas, pues después las usaremos para crear un DataFrame donde guardaremos los resultados del scrapping"
   ]
  },
  {
   "cell_type": "code",
   "execution_count": 16,
   "metadata": {},
   "outputs": [],
   "source": [
    "# Creando las listas\n",
    "provincias = list(ubigeos['PROVINCIA'])\n",
    "distritos = list(ubigeos['DISTRITO'])"
   ]
  },
  {
   "cell_type": "markdown",
   "metadata": {},
   "source": [
    "Limpiando las listas"
   ]
  },
  {
   "cell_type": "code",
   "execution_count": 17,
   "metadata": {},
   "outputs": [],
   "source": [
    "# Eliminando duplicados\n",
    "provincias = set(provincias)\n",
    "distritos = set(distritos)\n",
    "\n",
    "# Eliminando algunos elementos inutiles ('', nan)\n",
    "provincias = list(filter(lambda x: str(x) != 'nan', provincias))\n",
    "distritos = list(filter(lambda x: str(x) != 'nan', distritos))\n",
    "\n",
    "provincias.remove('')\n",
    "provincias.remove('PROVINCIA')\n",
    "distritos.remove('')"
   ]
  },
  {
   "cell_type": "markdown",
   "metadata": {},
   "source": [
    "Eliminando las tildes"
   ]
  },
  {
   "cell_type": "code",
   "execution_count": 18,
   "metadata": {},
   "outputs": [],
   "source": [
    "# Definimos una función para eliminar las tildes\n",
    "def normalize(s):\n",
    "    replacements = (\n",
    "        (\"á\", \"a\"),\n",
    "        (\"à\", \"a\"),\n",
    "        (\"é\", \"e\"),\n",
    "        (\"è\", \"e\"),\n",
    "        (\"í\", \"i\"),\n",
    "        (\"ì\", \"i\"),\n",
    "        (\"ó\", \"o\"),\n",
    "        (\"ò\", \"o\"),\n",
    "        (\"ú\", \"u\"),\n",
    "        (\"ù\", \"u\")\n",
    "    )\n",
    "    for a, b in replacements:\n",
    "        s = s.replace(a, b).replace(a.upper(), b.upper())\n",
    "    return s"
   ]
  },
  {
   "cell_type": "code",
   "execution_count": 19,
   "metadata": {},
   "outputs": [],
   "source": [
    "# La aplicamos a cada elemento de nuestras provincias/distritos\n",
    "nro_provs = len(provincias)\n",
    "for i in range(nro_provs):\n",
    "    provincias[i] = normalize(provincias[i])\n",
    "    # De paso, les quitaremos espacios\n",
    "    provincias[i] = provincias[i].strip()\n",
    "\n",
    "nro_distrs = len(distritos)\n",
    "for i in range(nro_distrs):\n",
    "    distritos[i] = normalize(distritos[i])\n",
    "    distritos[i] = distritos[i].strip()"
   ]
  },
  {
   "cell_type": "code",
   "execution_count": 20,
   "metadata": {},
   "outputs": [
    {
     "name": "stdout",
     "output_type": "stream",
     "text": [
      "['Corongo', 'Huaylas', 'Acobamba', 'Gran Chimu', 'Mariscal Nieto', 'Caraveli', 'Jorge Basadre', 'Azangaro', 'Mariscal Luzuriaga', 'Putumayo', 'Calca', 'Lamas', 'Chanchamayo', 'Tarma', 'Huamalies', 'Sucre', 'Chumbivilcas', 'Puerto Inca', 'Hualgayoc', 'San Pablo', 'Manu', 'Cusco', 'Utcubamba', 'Angaraes', 'Ascope', 'Candarave', 'Bagua', 'Victor Fajardo', 'Tacna', 'Grau', 'Yauli', 'Huaraz', 'Vilcas Huaman', 'Cangallo', 'Huarmey', 'Bellavista', 'Huaral', 'Oxapampa', 'Huallaga', 'Lima', 'Tocache', 'Ilo', 'Bolivar', 'Paucar del Sara Sara', 'Chucuito', 'Pisco', 'Aija', 'Rioja', 'Churcampa', 'Caylloma', 'Huancavelica', 'Huaytara', 'Quispicanchi', 'Luya', 'Pacasmayo', 'Dos de Mayo', 'Oyon', 'Condesuyos', 'Zarumilla', 'Huacaybamba', 'El Dorado', 'Melgar', 'Huanta', 'Huarochiri', 'Huancabamba', 'Daniel Alcides Carrion', 'Acomayo', 'Canas', 'Satipo', 'Asuncion', 'Ucayali', 'Sihuas', 'Maynas', 'La Mar', 'Carabaya', 'Huanca Sancos', 'La Union', 'Parinacochas', 'Purus', 'Talara', 'Espinar', 'Tahuamanu', 'Chincha', 'Contumaza', 'Viru', 'Tarata', 'San Ignacio', 'Islay', 'Yarowilca', 'Santa Cruz', 'Canchis', 'Carhuaz', 'Ocros', 'Puno', 'Paita', 'Mariscal Ramon Castilla', 'Antonio Raymondi', 'La Convencion', 'Huamanga', 'Chachapoyas', 'Pasco', 'Aymaraes', 'Ambo', 'Marañon', 'Cajamarca', 'Pataz', 'Cotabambas', 'Sechura', 'Paucartambo', 'Otuzco', 'Contralmirante Villar', 'Jaen', 'Chupaca', 'Tumbes', 'San Martin', 'Lauricocha', 'Requena', 'Anta', 'Huari', 'Moyobamba', 'Cajabamba', 'Bolognesi', 'Cutervo', 'Ferreñafe', 'Andahuaylas', 'Antabamba', 'Barranca', 'Moho', 'San Miguel', 'Castrovirreyna', 'Arequipa', 'Canta', 'Nasca', 'Ayabaca', 'Castilla', 'Paruro', 'Celendin', 'Pallasca', 'Pachitea', 'Sandia', 'Condorcanqui', 'Camana', 'Recuay', 'Yungay', 'Picota', 'General Sanchez Cerro', 'El Collao', 'Atalaya', 'Pomabamba', 'Santa', 'San Antonio de Putina', 'Lucanas', 'Urubamba', 'Lambayeque', 'Tambopata', 'Huancayo', 'Palpa', 'Chepen', 'Rodriguez de Mendoza', 'Leoncio Prado', 'Ica', 'Junin', 'Cajatambo', 'Jauja', 'Trujillo', 'Chiclayo', 'San Marcos', 'Coronel Portillo', 'Chota', 'Casma', 'Prov. Const. del Callao', 'Huanuco', 'Chincheros', 'Datem del Marañon', 'Bongara', 'Concepcion', 'Alto Amazonas', 'Santiago de Chuco', 'Huancane', 'Tayacaja', 'Carlos Fermin Fitzcarrald', 'Sullana', 'Lampa', 'Yunguyo', 'Huaura', 'Cañete', 'Padre Abad', 'Julcan', 'Sanchez Carrion', 'Yauyos', 'Abancay', 'Morropon', 'San Roman', 'Piura', 'Mariscal Caceres', 'Loreto']\n"
     ]
    }
   ],
   "source": [
    "print(provincias)\n",
    "# print(distritos)"
   ]
  },
  {
   "cell_type": "markdown",
   "metadata": {},
   "source": [
    "# Scrapping de Distancias y Tiempos de viaje"
   ]
  },
  {
   "cell_type": "markdown",
   "metadata": {},
   "source": [
    "Para realizar este scrapping, se tomará como referencia esta [guía](https://www.datahubbs.com/google-maps-python/)"
   ]
  },
  {
   "cell_type": "markdown",
   "metadata": {},
   "source": [
    "### Matriz a nivel de Provincias"
   ]
  },
  {
   "cell_type": "markdown",
   "metadata": {},
   "source": [
    "Lo primero será crear un DataFrame con los distritos/provincias de origen y de llegada."
   ]
  },
  {
   "cell_type": "code",
   "execution_count": 21,
   "metadata": {},
   "outputs": [
    {
     "data": {
      "text/html": [
       "<div>\n",
       "<style scoped>\n",
       "    .dataframe tbody tr th:only-of-type {\n",
       "        vertical-align: middle;\n",
       "    }\n",
       "\n",
       "    .dataframe tbody tr th {\n",
       "        vertical-align: top;\n",
       "    }\n",
       "\n",
       "    .dataframe thead th {\n",
       "        text-align: right;\n",
       "    }\n",
       "</style>\n",
       "<table border=\"1\" class=\"dataframe\">\n",
       "  <thead>\n",
       "    <tr style=\"text-align: right;\">\n",
       "      <th></th>\n",
       "      <th>Origin Province\\Destination Province</th>\n",
       "      <th>Corongo</th>\n",
       "      <th>Huaylas</th>\n",
       "      <th>Acobamba</th>\n",
       "      <th>Gran Chimu</th>\n",
       "      <th>Mariscal Nieto</th>\n",
       "      <th>Caraveli</th>\n",
       "      <th>Jorge Basadre</th>\n",
       "      <th>Azangaro</th>\n",
       "      <th>Mariscal Luzuriaga</th>\n",
       "      <th>...</th>\n",
       "      <th>Padre Abad</th>\n",
       "      <th>Julcan</th>\n",
       "      <th>Sanchez Carrion</th>\n",
       "      <th>Yauyos</th>\n",
       "      <th>Abancay</th>\n",
       "      <th>Morropon</th>\n",
       "      <th>San Roman</th>\n",
       "      <th>Piura</th>\n",
       "      <th>Mariscal Caceres</th>\n",
       "      <th>Loreto</th>\n",
       "    </tr>\n",
       "  </thead>\n",
       "  <tbody>\n",
       "    <tr>\n",
       "      <td>0</td>\n",
       "      <td>Corongo</td>\n",
       "      <td>NaN</td>\n",
       "      <td>NaN</td>\n",
       "      <td>NaN</td>\n",
       "      <td>NaN</td>\n",
       "      <td>NaN</td>\n",
       "      <td>NaN</td>\n",
       "      <td>NaN</td>\n",
       "      <td>NaN</td>\n",
       "      <td>NaN</td>\n",
       "      <td>...</td>\n",
       "      <td>NaN</td>\n",
       "      <td>NaN</td>\n",
       "      <td>NaN</td>\n",
       "      <td>NaN</td>\n",
       "      <td>NaN</td>\n",
       "      <td>NaN</td>\n",
       "      <td>NaN</td>\n",
       "      <td>NaN</td>\n",
       "      <td>NaN</td>\n",
       "      <td>NaN</td>\n",
       "    </tr>\n",
       "    <tr>\n",
       "      <td>1</td>\n",
       "      <td>Huaylas</td>\n",
       "      <td>NaN</td>\n",
       "      <td>NaN</td>\n",
       "      <td>NaN</td>\n",
       "      <td>NaN</td>\n",
       "      <td>NaN</td>\n",
       "      <td>NaN</td>\n",
       "      <td>NaN</td>\n",
       "      <td>NaN</td>\n",
       "      <td>NaN</td>\n",
       "      <td>...</td>\n",
       "      <td>NaN</td>\n",
       "      <td>NaN</td>\n",
       "      <td>NaN</td>\n",
       "      <td>NaN</td>\n",
       "      <td>NaN</td>\n",
       "      <td>NaN</td>\n",
       "      <td>NaN</td>\n",
       "      <td>NaN</td>\n",
       "      <td>NaN</td>\n",
       "      <td>NaN</td>\n",
       "    </tr>\n",
       "    <tr>\n",
       "      <td>2</td>\n",
       "      <td>Acobamba</td>\n",
       "      <td>NaN</td>\n",
       "      <td>NaN</td>\n",
       "      <td>NaN</td>\n",
       "      <td>NaN</td>\n",
       "      <td>NaN</td>\n",
       "      <td>NaN</td>\n",
       "      <td>NaN</td>\n",
       "      <td>NaN</td>\n",
       "      <td>NaN</td>\n",
       "      <td>...</td>\n",
       "      <td>NaN</td>\n",
       "      <td>NaN</td>\n",
       "      <td>NaN</td>\n",
       "      <td>NaN</td>\n",
       "      <td>NaN</td>\n",
       "      <td>NaN</td>\n",
       "      <td>NaN</td>\n",
       "      <td>NaN</td>\n",
       "      <td>NaN</td>\n",
       "      <td>NaN</td>\n",
       "    </tr>\n",
       "    <tr>\n",
       "      <td>3</td>\n",
       "      <td>Gran Chimu</td>\n",
       "      <td>NaN</td>\n",
       "      <td>NaN</td>\n",
       "      <td>NaN</td>\n",
       "      <td>NaN</td>\n",
       "      <td>NaN</td>\n",
       "      <td>NaN</td>\n",
       "      <td>NaN</td>\n",
       "      <td>NaN</td>\n",
       "      <td>NaN</td>\n",
       "      <td>...</td>\n",
       "      <td>NaN</td>\n",
       "      <td>NaN</td>\n",
       "      <td>NaN</td>\n",
       "      <td>NaN</td>\n",
       "      <td>NaN</td>\n",
       "      <td>NaN</td>\n",
       "      <td>NaN</td>\n",
       "      <td>NaN</td>\n",
       "      <td>NaN</td>\n",
       "      <td>NaN</td>\n",
       "    </tr>\n",
       "    <tr>\n",
       "      <td>4</td>\n",
       "      <td>Mariscal Nieto</td>\n",
       "      <td>NaN</td>\n",
       "      <td>NaN</td>\n",
       "      <td>NaN</td>\n",
       "      <td>NaN</td>\n",
       "      <td>NaN</td>\n",
       "      <td>NaN</td>\n",
       "      <td>NaN</td>\n",
       "      <td>NaN</td>\n",
       "      <td>NaN</td>\n",
       "      <td>...</td>\n",
       "      <td>NaN</td>\n",
       "      <td>NaN</td>\n",
       "      <td>NaN</td>\n",
       "      <td>NaN</td>\n",
       "      <td>NaN</td>\n",
       "      <td>NaN</td>\n",
       "      <td>NaN</td>\n",
       "      <td>NaN</td>\n",
       "      <td>NaN</td>\n",
       "      <td>NaN</td>\n",
       "    </tr>\n",
       "    <tr>\n",
       "      <td>...</td>\n",
       "      <td>...</td>\n",
       "      <td>...</td>\n",
       "      <td>...</td>\n",
       "      <td>...</td>\n",
       "      <td>...</td>\n",
       "      <td>...</td>\n",
       "      <td>...</td>\n",
       "      <td>...</td>\n",
       "      <td>...</td>\n",
       "      <td>...</td>\n",
       "      <td>...</td>\n",
       "      <td>...</td>\n",
       "      <td>...</td>\n",
       "      <td>...</td>\n",
       "      <td>...</td>\n",
       "      <td>...</td>\n",
       "      <td>...</td>\n",
       "      <td>...</td>\n",
       "      <td>...</td>\n",
       "      <td>...</td>\n",
       "      <td>...</td>\n",
       "    </tr>\n",
       "    <tr>\n",
       "      <td>191</td>\n",
       "      <td>Morropon</td>\n",
       "      <td>NaN</td>\n",
       "      <td>NaN</td>\n",
       "      <td>NaN</td>\n",
       "      <td>NaN</td>\n",
       "      <td>NaN</td>\n",
       "      <td>NaN</td>\n",
       "      <td>NaN</td>\n",
       "      <td>NaN</td>\n",
       "      <td>NaN</td>\n",
       "      <td>...</td>\n",
       "      <td>NaN</td>\n",
       "      <td>NaN</td>\n",
       "      <td>NaN</td>\n",
       "      <td>NaN</td>\n",
       "      <td>NaN</td>\n",
       "      <td>NaN</td>\n",
       "      <td>NaN</td>\n",
       "      <td>NaN</td>\n",
       "      <td>NaN</td>\n",
       "      <td>NaN</td>\n",
       "    </tr>\n",
       "    <tr>\n",
       "      <td>192</td>\n",
       "      <td>San Roman</td>\n",
       "      <td>NaN</td>\n",
       "      <td>NaN</td>\n",
       "      <td>NaN</td>\n",
       "      <td>NaN</td>\n",
       "      <td>NaN</td>\n",
       "      <td>NaN</td>\n",
       "      <td>NaN</td>\n",
       "      <td>NaN</td>\n",
       "      <td>NaN</td>\n",
       "      <td>...</td>\n",
       "      <td>NaN</td>\n",
       "      <td>NaN</td>\n",
       "      <td>NaN</td>\n",
       "      <td>NaN</td>\n",
       "      <td>NaN</td>\n",
       "      <td>NaN</td>\n",
       "      <td>NaN</td>\n",
       "      <td>NaN</td>\n",
       "      <td>NaN</td>\n",
       "      <td>NaN</td>\n",
       "    </tr>\n",
       "    <tr>\n",
       "      <td>193</td>\n",
       "      <td>Piura</td>\n",
       "      <td>NaN</td>\n",
       "      <td>NaN</td>\n",
       "      <td>NaN</td>\n",
       "      <td>NaN</td>\n",
       "      <td>NaN</td>\n",
       "      <td>NaN</td>\n",
       "      <td>NaN</td>\n",
       "      <td>NaN</td>\n",
       "      <td>NaN</td>\n",
       "      <td>...</td>\n",
       "      <td>NaN</td>\n",
       "      <td>NaN</td>\n",
       "      <td>NaN</td>\n",
       "      <td>NaN</td>\n",
       "      <td>NaN</td>\n",
       "      <td>NaN</td>\n",
       "      <td>NaN</td>\n",
       "      <td>NaN</td>\n",
       "      <td>NaN</td>\n",
       "      <td>NaN</td>\n",
       "    </tr>\n",
       "    <tr>\n",
       "      <td>194</td>\n",
       "      <td>Mariscal Caceres</td>\n",
       "      <td>NaN</td>\n",
       "      <td>NaN</td>\n",
       "      <td>NaN</td>\n",
       "      <td>NaN</td>\n",
       "      <td>NaN</td>\n",
       "      <td>NaN</td>\n",
       "      <td>NaN</td>\n",
       "      <td>NaN</td>\n",
       "      <td>NaN</td>\n",
       "      <td>...</td>\n",
       "      <td>NaN</td>\n",
       "      <td>NaN</td>\n",
       "      <td>NaN</td>\n",
       "      <td>NaN</td>\n",
       "      <td>NaN</td>\n",
       "      <td>NaN</td>\n",
       "      <td>NaN</td>\n",
       "      <td>NaN</td>\n",
       "      <td>NaN</td>\n",
       "      <td>NaN</td>\n",
       "    </tr>\n",
       "    <tr>\n",
       "      <td>195</td>\n",
       "      <td>Loreto</td>\n",
       "      <td>NaN</td>\n",
       "      <td>NaN</td>\n",
       "      <td>NaN</td>\n",
       "      <td>NaN</td>\n",
       "      <td>NaN</td>\n",
       "      <td>NaN</td>\n",
       "      <td>NaN</td>\n",
       "      <td>NaN</td>\n",
       "      <td>NaN</td>\n",
       "      <td>...</td>\n",
       "      <td>NaN</td>\n",
       "      <td>NaN</td>\n",
       "      <td>NaN</td>\n",
       "      <td>NaN</td>\n",
       "      <td>NaN</td>\n",
       "      <td>NaN</td>\n",
       "      <td>NaN</td>\n",
       "      <td>NaN</td>\n",
       "      <td>NaN</td>\n",
       "      <td>NaN</td>\n",
       "    </tr>\n",
       "  </tbody>\n",
       "</table>\n",
       "<p>196 rows × 197 columns</p>\n",
       "</div>"
      ],
      "text/plain": [
       "    Origin Province\\Destination Province Corongo Huaylas Acobamba Gran Chimu  \\\n",
       "0                                Corongo     NaN     NaN      NaN        NaN   \n",
       "1                                Huaylas     NaN     NaN      NaN        NaN   \n",
       "2                               Acobamba     NaN     NaN      NaN        NaN   \n",
       "3                             Gran Chimu     NaN     NaN      NaN        NaN   \n",
       "4                         Mariscal Nieto     NaN     NaN      NaN        NaN   \n",
       "..                                   ...     ...     ...      ...        ...   \n",
       "191                             Morropon     NaN     NaN      NaN        NaN   \n",
       "192                            San Roman     NaN     NaN      NaN        NaN   \n",
       "193                                Piura     NaN     NaN      NaN        NaN   \n",
       "194                     Mariscal Caceres     NaN     NaN      NaN        NaN   \n",
       "195                               Loreto     NaN     NaN      NaN        NaN   \n",
       "\n",
       "    Mariscal Nieto Caraveli Jorge Basadre Azangaro Mariscal Luzuriaga  ...  \\\n",
       "0              NaN      NaN           NaN      NaN                NaN  ...   \n",
       "1              NaN      NaN           NaN      NaN                NaN  ...   \n",
       "2              NaN      NaN           NaN      NaN                NaN  ...   \n",
       "3              NaN      NaN           NaN      NaN                NaN  ...   \n",
       "4              NaN      NaN           NaN      NaN                NaN  ...   \n",
       "..             ...      ...           ...      ...                ...  ...   \n",
       "191            NaN      NaN           NaN      NaN                NaN  ...   \n",
       "192            NaN      NaN           NaN      NaN                NaN  ...   \n",
       "193            NaN      NaN           NaN      NaN                NaN  ...   \n",
       "194            NaN      NaN           NaN      NaN                NaN  ...   \n",
       "195            NaN      NaN           NaN      NaN                NaN  ...   \n",
       "\n",
       "    Padre Abad Julcan Sanchez Carrion Yauyos Abancay Morropon San Roman Piura  \\\n",
       "0          NaN    NaN             NaN    NaN     NaN      NaN       NaN   NaN   \n",
       "1          NaN    NaN             NaN    NaN     NaN      NaN       NaN   NaN   \n",
       "2          NaN    NaN             NaN    NaN     NaN      NaN       NaN   NaN   \n",
       "3          NaN    NaN             NaN    NaN     NaN      NaN       NaN   NaN   \n",
       "4          NaN    NaN             NaN    NaN     NaN      NaN       NaN   NaN   \n",
       "..         ...    ...             ...    ...     ...      ...       ...   ...   \n",
       "191        NaN    NaN             NaN    NaN     NaN      NaN       NaN   NaN   \n",
       "192        NaN    NaN             NaN    NaN     NaN      NaN       NaN   NaN   \n",
       "193        NaN    NaN             NaN    NaN     NaN      NaN       NaN   NaN   \n",
       "194        NaN    NaN             NaN    NaN     NaN      NaN       NaN   NaN   \n",
       "195        NaN    NaN             NaN    NaN     NaN      NaN       NaN   NaN   \n",
       "\n",
       "    Mariscal Caceres Loreto  \n",
       "0                NaN    NaN  \n",
       "1                NaN    NaN  \n",
       "2                NaN    NaN  \n",
       "3                NaN    NaN  \n",
       "4                NaN    NaN  \n",
       "..               ...    ...  \n",
       "191              NaN    NaN  \n",
       "192              NaN    NaN  \n",
       "193              NaN    NaN  \n",
       "194              NaN    NaN  \n",
       "195              NaN    NaN  \n",
       "\n",
       "[196 rows x 197 columns]"
      ]
     },
     "execution_count": 21,
     "metadata": {},
     "output_type": "execute_result"
    }
   ],
   "source": [
    "first_col = [\"Origin Province\\Destination Province\"]\n",
    "prov_distances = pd.DataFrame({\"Origin Province\\Destination Province\": provincias}, \n",
    "                        columns = first_col+provincias)\n",
    "prov_distances"
   ]
  },
  {
   "cell_type": "markdown",
   "metadata": {},
   "source": [
    "Creando listas con los origenes/destinos para reemplazar en el dataframe"
   ]
  },
  {
   "cell_type": "code",
   "execution_count": 46,
   "metadata": {},
   "outputs": [],
   "source": [
    "# Como queremos iterar sobre los nombres de las provincias\n",
    "origin = []\n",
    "destination = []\n",
    "\n",
    "for prov_row in provincias:\n",
    "    for prov_col in provincias: \n",
    "        origin.append(prov_row+\"+\"+\"Peru\")\n",
    "        destination.append(prov_col+\"+\"+\"Peru\")"
   ]
  },
  {
   "cell_type": "markdown",
   "metadata": {},
   "source": [
    "## Usando el paquete `googlemaps`"
   ]
  },
  {
   "cell_type": "markdown",
   "metadata": {},
   "source": [
    "Ahora que ya tenemos todos los datos listos, nos falta activar la clase `googlemaps` para que podamos extraer tiempos y distancias. Ello se puede hacer así:"
   ]
  },
  {
   "cell_type": "markdown",
   "metadata": {},
   "source": [
    "1. Importamos la librería googlemaps (Hecho al inicio de este jupyter)\n",
    "1. Activamos el API `Distance Matrix API` en Google Cloud Platform (se puede encontrar una guía [aquí](https://www.youtube.com/watch?v=n1UorU1PALk))\n",
    "1. Creamos una API key para poder usar el item anterior (guía [aquí](https://www.youtube.com/watch?v=2_HZObVbe-g))\n",
    "1. Activaremos el cobro por el uso del API (Nos daran una prueba gratuita. La guía está [aquí](https://support.google.com/googleapi/answer/6158867?hl=en))"
   ]
  },
  {
   "cell_type": "markdown",
   "metadata": {},
   "source": [
    "Sin un API key no podrán seguir el proceso, pero es de uso **personal**. Por ello, nunca la debemos escribir directamente en nuestro código; sin embargo, aprenderemos como utilizarla manteniendola privada y lo haremos usando **variables del sistema**"
   ]
  },
  {
   "cell_type": "markdown",
   "metadata": {},
   "source": [
    "En el Menú de Inicio de Windows, busquen \"environment\" o \"variables\". Escojan la opción **\"Editar las variables de entorno del sistema\"**\n",
    "![](images\\env1.jpg)"
   ]
  },
  {
   "cell_type": "markdown",
   "metadata": {},
   "source": [
    "Abranlo y entren a la pestaña `Opciones Avanzadas`\n",
    "\n",
    "![](images\\env2.jpg)"
   ]
  },
  {
   "cell_type": "markdown",
   "metadata": {},
   "source": [
    "Hagan click a la opción `Variables de entornno`\n",
    "![](images\\env3.jpg)"
   ]
  },
  {
   "cell_type": "markdown",
   "metadata": {},
   "source": [
    "Vayan a la sección `Variables de entorno` y denle click a **Nueva...**\n",
    "![](images\\env4.jpg)"
   ]
  },
  {
   "cell_type": "markdown",
   "metadata": {},
   "source": [
    "Coloquen el nombre que prefieran (en mi caso, usé  `maps_key`) y, como valor, la API Key correspondiente (no la deben colocar entre comillas)\n",
    "![](images\\env5.jpg)"
   ]
  },
  {
   "cell_type": "markdown",
   "metadata": {},
   "source": [
    "Denle Aceptar a esta ventana y luego a las anteriores hasta que se cierren todas. Cuando estén cerradas, reinicien su computadora y ya deberían poder usarla"
   ]
  },
  {
   "cell_type": "markdown",
   "metadata": {},
   "source": [
    "Cuando ya tengan su API Key lista, llamenla de la siguiente manera"
   ]
  },
  {
   "cell_type": "code",
   "execution_count": 26,
   "metadata": {
    "scrolled": true
   },
   "outputs": [],
   "source": [
    "key = os.environ.get('maps_key')"
   ]
  },
  {
   "cell_type": "markdown",
   "metadata": {},
   "source": [
    "Ahora, activaremos la clase google maps usando nuestro key"
   ]
  },
  {
   "cell_type": "code",
   "execution_count": 29,
   "metadata": {},
   "outputs": [],
   "source": [
    "gmaps = googlemaps.Client(key)"
   ]
  },
  {
   "cell_type": "markdown",
   "metadata": {},
   "source": [
    "Crearemos ahora nuestra matriz de distancias y tiempos usando esa clase"
   ]
  },
  {
   "cell_type": "code",
   "execution_count": 45,
   "metadata": {},
   "outputs": [
    {
     "data": {
      "text/plain": [
       "{'destination_addresses': ['Huaylas 02185, Peru'],\n",
       " 'origin_addresses': ['Corongo Province, Peru'],\n",
       " 'rows': [{'elements': [{'distance': {'text': '105 km', 'value': 105439},\n",
       "     'duration': {'text': '3 hours 31 mins', 'value': 12674},\n",
       "     'status': 'OK'}]}],\n",
       " 'status': 'OK'}"
      ]
     },
     "execution_count": 45,
     "metadata": {},
     "output_type": "execute_result"
    }
   ],
   "source": [
    "provs_mat = gmaps.distance_matrix(origins=origin[0], destinations=destination[1], mode='driving')\n",
    "provs_mat"
   ]
  },
  {
   "cell_type": "markdown",
   "metadata": {},
   "source": [
    "**TODO:** Iterar a través de cada elemento de origen y provincia, capturando las distancias y guardandolas en las celdas correspondientes del data frame"
   ]
  }
 ],
 "metadata": {
  "kernelspec": {
   "display_name": "Python 3",
   "language": "python",
   "name": "python3"
  },
  "language_info": {
   "codemirror_mode": {
    "name": "ipython",
    "version": 3
   },
   "file_extension": ".py",
   "mimetype": "text/x-python",
   "name": "python",
   "nbconvert_exporter": "python",
   "pygments_lexer": "ipython3",
   "version": "3.6.5"
  }
 },
 "nbformat": 4,
 "nbformat_minor": 2
}
