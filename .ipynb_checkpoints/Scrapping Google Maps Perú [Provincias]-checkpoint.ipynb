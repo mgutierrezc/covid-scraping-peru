{
 "cells": [
  {
   "cell_type": "markdown",
   "metadata": {},
   "source": [
    "# Obteniendo la información para el Scrapping"
   ]
  },
  {
   "cell_type": "markdown",
   "metadata": {},
   "source": [
    "Importamos las librerias para el scrapping"
   ]
  },
  {
   "cell_type": "code",
   "execution_count": 6,
   "metadata": {},
   "outputs": [],
   "source": [
    "import pandas as pd\n",
    "import googlemaps\n",
    "import numpy as np\n",
    "import re"
   ]
  },
  {
   "cell_type": "markdown",
   "metadata": {},
   "source": [
    "## Importando las provincias/distritos a analizar"
   ]
  },
  {
   "cell_type": "markdown",
   "metadata": {},
   "source": [
    "Primero, leeremos un archivo que contiene los elementos de los ubigeos del INEI. Se puede descargar entrando [aquí](http://webinei.inei.gob.pe:8080/sisconcode/proyecto/index.htm?proyectoTitulo=UBIGEO&proyectoId=3) y dando click a la opción **Excel** en la pestaña *Busqueda por Ubicación Geográfica*"
   ]
  },
  {
   "cell_type": "code",
   "execution_count": 18,
   "metadata": {},
   "outputs": [
    {
     "data": {
      "text/html": [
       "<div>\n",
       "<style scoped>\n",
       "    .dataframe tbody tr th:only-of-type {\n",
       "        vertical-align: middle;\n",
       "    }\n",
       "\n",
       "    .dataframe tbody tr th {\n",
       "        vertical-align: top;\n",
       "    }\n",
       "\n",
       "    .dataframe thead th {\n",
       "        text-align: right;\n",
       "    }\n",
       "</style>\n",
       "<table border=\"1\" class=\"dataframe\">\n",
       "  <thead>\n",
       "    <tr style=\"text-align: right;\">\n",
       "      <th></th>\n",
       "      <th>Unnamed: 0</th>\n",
       "      <th>DEPARTAMENTO</th>\n",
       "      <th>Unnamed: 2</th>\n",
       "      <th>Unnamed: 3</th>\n",
       "      <th>PROVINCIA</th>\n",
       "      <th>DISTRITO</th>\n",
       "    </tr>\n",
       "  </thead>\n",
       "  <tbody>\n",
       "    <tr>\n",
       "      <td>0</td>\n",
       "      <td>NaN</td>\n",
       "      <td>01 Amazonas</td>\n",
       "      <td>NaN</td>\n",
       "      <td>NaN</td>\n",
       "      <td></td>\n",
       "      <td></td>\n",
       "    </tr>\n",
       "    <tr>\n",
       "      <td>1</td>\n",
       "      <td>NaN</td>\n",
       "      <td>01 Amazonas</td>\n",
       "      <td>NaN</td>\n",
       "      <td>NaN</td>\n",
       "      <td>01 Chachapoyas</td>\n",
       "      <td></td>\n",
       "    </tr>\n",
       "    <tr>\n",
       "      <td>2</td>\n",
       "      <td>NaN</td>\n",
       "      <td>01 Amazonas</td>\n",
       "      <td>NaN</td>\n",
       "      <td>NaN</td>\n",
       "      <td>01 Chachapoyas</td>\n",
       "      <td>01 Chachapoyas</td>\n",
       "    </tr>\n",
       "    <tr>\n",
       "      <td>3</td>\n",
       "      <td>NaN</td>\n",
       "      <td>01 Amazonas</td>\n",
       "      <td>NaN</td>\n",
       "      <td>NaN</td>\n",
       "      <td>01 Chachapoyas</td>\n",
       "      <td>02 Asunción</td>\n",
       "    </tr>\n",
       "    <tr>\n",
       "      <td>4</td>\n",
       "      <td>NaN</td>\n",
       "      <td>01 Amazonas</td>\n",
       "      <td>NaN</td>\n",
       "      <td>NaN</td>\n",
       "      <td>01 Chachapoyas</td>\n",
       "      <td>03 Balsas</td>\n",
       "    </tr>\n",
       "  </tbody>\n",
       "</table>\n",
       "</div>"
      ],
      "text/plain": [
       "   Unnamed: 0 DEPARTAMENTO  Unnamed: 2  Unnamed: 3       PROVINCIA  \\\n",
       "0         NaN  01 Amazonas         NaN         NaN                   \n",
       "1         NaN  01 Amazonas         NaN         NaN  01 Chachapoyas   \n",
       "2         NaN  01 Amazonas         NaN         NaN  01 Chachapoyas   \n",
       "3         NaN  01 Amazonas         NaN         NaN  01 Chachapoyas   \n",
       "4         NaN  01 Amazonas         NaN         NaN  01 Chachapoyas   \n",
       "\n",
       "         DISTRITO  \n",
       "0                  \n",
       "1                  \n",
       "2  01 Chachapoyas  \n",
       "3     02 Asunción  \n",
       "4       03 Balsas  "
      ]
     },
     "execution_count": 18,
     "metadata": {},
     "output_type": "execute_result"
    }
   ],
   "source": [
    "ubigeos = pd.read_excel('ubigeo_inei.xls',skiprows=1)\n",
    "ubigeos.head()"
   ]
  },
  {
   "cell_type": "markdown",
   "metadata": {},
   "source": [
    "Necesitamos las provincias y distritos de esta base, así que limpiaremos los valores de estas variables"
   ]
  },
  {
   "cell_type": "code",
   "execution_count": 55,
   "metadata": {},
   "outputs": [
    {
     "data": {
      "text/html": [
       "<div>\n",
       "<style scoped>\n",
       "    .dataframe tbody tr th:only-of-type {\n",
       "        vertical-align: middle;\n",
       "    }\n",
       "\n",
       "    .dataframe tbody tr th {\n",
       "        vertical-align: top;\n",
       "    }\n",
       "\n",
       "    .dataframe thead th {\n",
       "        text-align: right;\n",
       "    }\n",
       "</style>\n",
       "<table border=\"1\" class=\"dataframe\">\n",
       "  <thead>\n",
       "    <tr style=\"text-align: right;\">\n",
       "      <th></th>\n",
       "      <th>Unnamed: 0</th>\n",
       "      <th>DEPARTAMENTO</th>\n",
       "      <th>Unnamed: 2</th>\n",
       "      <th>Unnamed: 3</th>\n",
       "      <th>PROVINCIA</th>\n",
       "      <th>DISTRITO</th>\n",
       "    </tr>\n",
       "  </thead>\n",
       "  <tbody>\n",
       "    <tr>\n",
       "      <td>0</td>\n",
       "      <td>NaN</td>\n",
       "      <td>01 Amazonas</td>\n",
       "      <td>NaN</td>\n",
       "      <td>NaN</td>\n",
       "      <td></td>\n",
       "      <td></td>\n",
       "    </tr>\n",
       "    <tr>\n",
       "      <td>1</td>\n",
       "      <td>NaN</td>\n",
       "      <td>01 Amazonas</td>\n",
       "      <td>NaN</td>\n",
       "      <td>NaN</td>\n",
       "      <td>Chachapoyas</td>\n",
       "      <td></td>\n",
       "    </tr>\n",
       "    <tr>\n",
       "      <td>2</td>\n",
       "      <td>NaN</td>\n",
       "      <td>01 Amazonas</td>\n",
       "      <td>NaN</td>\n",
       "      <td>NaN</td>\n",
       "      <td>Chachapoyas</td>\n",
       "      <td>Chachapoyas</td>\n",
       "    </tr>\n",
       "    <tr>\n",
       "      <td>3</td>\n",
       "      <td>NaN</td>\n",
       "      <td>01 Amazonas</td>\n",
       "      <td>NaN</td>\n",
       "      <td>NaN</td>\n",
       "      <td>Chachapoyas</td>\n",
       "      <td>Asunción</td>\n",
       "    </tr>\n",
       "    <tr>\n",
       "      <td>4</td>\n",
       "      <td>NaN</td>\n",
       "      <td>01 Amazonas</td>\n",
       "      <td>NaN</td>\n",
       "      <td>NaN</td>\n",
       "      <td>Chachapoyas</td>\n",
       "      <td>Balsas</td>\n",
       "    </tr>\n",
       "  </tbody>\n",
       "</table>\n",
       "</div>"
      ],
      "text/plain": [
       "   Unnamed: 0 DEPARTAMENTO  Unnamed: 2  Unnamed: 3    PROVINCIA     DISTRITO\n",
       "0         NaN  01 Amazonas         NaN         NaN                          \n",
       "1         NaN  01 Amazonas         NaN         NaN  Chachapoyas             \n",
       "2         NaN  01 Amazonas         NaN         NaN  Chachapoyas  Chachapoyas\n",
       "3         NaN  01 Amazonas         NaN         NaN  Chachapoyas     Asunción\n",
       "4         NaN  01 Amazonas         NaN         NaN  Chachapoyas       Balsas"
      ]
     },
     "execution_count": 55,
     "metadata": {},
     "output_type": "execute_result"
    }
   ],
   "source": [
    "ubigeos[\"PROVINCIA\"] = ubigeos[\"PROVINCIA\"].str.replace('^\\d* ', \"\", flags=re.I, regex=True)\n",
    "ubigeos[\"DISTRITO\"] = ubigeos[\"DISTRITO\"].str.replace('^\\d* ', \"\", flags=re.I, regex=True)\n",
    "ubigeos.head()"
   ]
  },
  {
   "cell_type": "markdown",
   "metadata": {},
   "source": [
    "Necesitaremos estas dos columnas como listas, pues después las usaremos para crear un DataFrame donde guardaremos los resultados del scrapping"
   ]
  },
  {
   "cell_type": "code",
   "execution_count": 61,
   "metadata": {},
   "outputs": [],
   "source": [
    "# Creando las listas\n",
    "provincias = list(ubigeos['PROVINCIA'])\n",
    "distritos = list(ubigeos['DISTRITO'])"
   ]
  },
  {
   "cell_type": "markdown",
   "metadata": {},
   "source": [
    "Limpiando las listas"
   ]
  },
  {
   "cell_type": "code",
   "execution_count": 62,
   "metadata": {},
   "outputs": [],
   "source": [
    "# Eliminando duplicados\n",
    "provincias = set(provincias)\n",
    "distritos = set(distritos)\n",
    "\n",
    "# Eliminando algunos elementos inutiles ('', nan)\n",
    "provincias = list(filter(lambda x: str(x) != 'nan', provincias))\n",
    "distritos = list(filter(lambda x: str(x) != 'nan', distritos))\n",
    "\n",
    "provincias.remove('')\n",
    "provincias.remove('PROVINCIA')\n",
    "distritos.remove('')"
   ]
  },
  {
   "cell_type": "markdown",
   "metadata": {},
   "source": [
    "Eliminando las tildes"
   ]
  },
  {
   "cell_type": "code",
   "execution_count": 63,
   "metadata": {},
   "outputs": [],
   "source": [
    "# Definimos una función para eliminar las tildes\n",
    "def normalize(s):\n",
    "    replacements = (\n",
    "        (\"á\", \"a\"),\n",
    "        (\"à\", \"a\"),\n",
    "        (\"é\", \"e\"),\n",
    "        (\"è\", \"e\"),\n",
    "        (\"í\", \"i\"),\n",
    "        (\"ì\", \"i\"),\n",
    "        (\"ó\", \"o\"),\n",
    "        (\"ò\", \"o\"),\n",
    "        (\"ú\", \"u\"),\n",
    "        (\"ù\", \"u\")\n",
    "    )\n",
    "    for a, b in replacements:\n",
    "        s = s.replace(a, b).replace(a.upper(), b.upper())\n",
    "    return s"
   ]
  },
  {
   "cell_type": "code",
   "execution_count": 66,
   "metadata": {},
   "outputs": [],
   "source": [
    "# La aplicamos a cada elemento de nuestras provincias/distritos\n",
    "nro_provs = len(provincias)\n",
    "for i in range(nro_provs):\n",
    "    provincias[i] = normalize(provincias[i])\n",
    "\n",
    "nro_distrs = len(distritos)\n",
    "for i in range(nro_distrs):\n",
    "    distritos[i] = normalize(distritos[i])\n",
    "    \n",
    "# print(provincias)\n",
    "# print(distritos)"
   ]
  },
  {
   "cell_type": "markdown",
   "metadata": {},
   "source": [
    "# Scrapping de Distancias y Tiempos de viaje"
   ]
  },
  {
   "cell_type": "markdown",
   "metadata": {},
   "source": [
    "Para realizar este scrapping, se tomará como referencia esta [guía](https://www.datahubbs.com/google-maps-python/)"
   ]
  },
  {
   "cell_type": "markdown",
   "metadata": {},
   "source": [
    "### A nivel de Provincias"
   ]
  },
  {
   "cell_type": "markdown",
   "metadata": {},
   "source": [
    "1. Lo primero será crear un DataFrame con los distritos/provincias de origen y de llegada."
   ]
  },
  {
   "cell_type": "code",
   "execution_count": 69,
   "metadata": {},
   "outputs": [
    {
     "data": {
      "text/html": [
       "<div>\n",
       "<style scoped>\n",
       "    .dataframe tbody tr th:only-of-type {\n",
       "        vertical-align: middle;\n",
       "    }\n",
       "\n",
       "    .dataframe tbody tr th {\n",
       "        vertical-align: top;\n",
       "    }\n",
       "\n",
       "    .dataframe thead th {\n",
       "        text-align: right;\n",
       "    }\n",
       "</style>\n",
       "<table border=\"1\" class=\"dataframe\">\n",
       "  <thead>\n",
       "    <tr style=\"text-align: right;\">\n",
       "      <th></th>\n",
       "      <th>origin_city</th>\n",
       "      <th>origin_country</th>\n",
       "      <th>destination_city</th>\n",
       "      <th>destination_country</th>\n",
       "    </tr>\n",
       "  </thead>\n",
       "  <tbody>\n",
       "    <tr>\n",
       "      <td>0</td>\n",
       "      <td>Ocros</td>\n",
       "      <td>Peru</td>\n",
       "      <td>Ocros</td>\n",
       "      <td>Peru</td>\n",
       "    </tr>\n",
       "    <tr>\n",
       "      <td>1</td>\n",
       "      <td>Chincheros</td>\n",
       "      <td>Peru</td>\n",
       "      <td>Chincheros</td>\n",
       "      <td>Peru</td>\n",
       "    </tr>\n",
       "    <tr>\n",
       "      <td>2</td>\n",
       "      <td>Prov. Const. del Callao</td>\n",
       "      <td>Peru</td>\n",
       "      <td>Prov. Const. del Callao</td>\n",
       "      <td>Peru</td>\n",
       "    </tr>\n",
       "    <tr>\n",
       "      <td>3</td>\n",
       "      <td>Angaraes</td>\n",
       "      <td>Peru</td>\n",
       "      <td>Angaraes</td>\n",
       "      <td>Peru</td>\n",
       "    </tr>\n",
       "    <tr>\n",
       "      <td>4</td>\n",
       "      <td>Tarma</td>\n",
       "      <td>Peru</td>\n",
       "      <td>Tarma</td>\n",
       "      <td>Peru</td>\n",
       "    </tr>\n",
       "  </tbody>\n",
       "</table>\n",
       "</div>"
      ],
      "text/plain": [
       "               origin_city origin_country         destination_city  \\\n",
       "0                    Ocros           Peru                    Ocros   \n",
       "1               Chincheros           Peru               Chincheros   \n",
       "2  Prov. Const. del Callao           Peru  Prov. Const. del Callao   \n",
       "3                 Angaraes           Peru                 Angaraes   \n",
       "4                   Tarma            Peru                   Tarma    \n",
       "\n",
       "  destination_country  \n",
       "0                Peru  \n",
       "1                Peru  \n",
       "2                Peru  \n",
       "3                Peru  \n",
       "4                Peru  "
      ]
     },
     "execution_count": 69,
     "metadata": {},
     "output_type": "execute_result"
    }
   ],
   "source": [
    "locations = pd.DataFrame({\"origin_city\": provincias,\n",
    "                          \"origin_country\": \"Peru\",\n",
    "                          \"destination_city\": provincias,\n",
    "                          \"destination_country\": \"Peru\"\n",
    "                         }, \n",
    "                        columns = [\"origin_city\", \"origin_country\",\n",
    "                                  \"destination_city\", \"destination_country\"])\n",
    "locations.head()"
   ]
  },
  {
   "cell_type": "code",
   "execution_count": null,
   "metadata": {},
   "outputs": [],
   "source": [
    "def concat_cities(x, y):\n",
    "    name = x + \"+\" + y\n",
    "    return(re.sub(\" \", \"+\", name))"
   ]
  }
 ],
 "metadata": {
  "kernelspec": {
   "display_name": "Python 3",
   "language": "python",
   "name": "python3"
  },
  "language_info": {
   "codemirror_mode": {
    "name": "ipython",
    "version": 3
   },
   "file_extension": ".py",
   "mimetype": "text/x-python",
   "name": "python",
   "nbconvert_exporter": "python",
   "pygments_lexer": "ipython3",
   "version": "3.6.5"
  }
 },
 "nbformat": 4,
 "nbformat_minor": 2
}
